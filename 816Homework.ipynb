{
  "nbformat": 4,
  "nbformat_minor": 0,
  "metadata": {
    "colab": {
      "provenance": [],
      "authorship_tag": "ABX9TyNS63dwSgXDOzVlCh/WOnLc",
      "include_colab_link": true
    },
    "kernelspec": {
      "name": "python3",
      "display_name": "Python 3"
    },
    "language_info": {
      "name": "python"
    }
  },
  "cells": [
    {
      "cell_type": "markdown",
      "metadata": {
        "id": "view-in-github",
        "colab_type": "text"
      },
      "source": [
        "<a href=\"https://colab.research.google.com/github/seanhsieh1104/Colab/blob/main/816Homework.ipynb\" target=\"_parent\"><img src=\"https://colab.research.google.com/assets/colab-badge.svg\" alt=\"Open In Colab\"/></a>"
      ]
    },
    {
      "cell_type": "markdown",
      "source": [
        "## 國文"
      ],
      "metadata": {
        "id": "xENdFIRr7R0H"
      }
    },
    {
      "cell_type": "code",
      "source": [
        "預良師_單元 = \"U\" #@param {type:\"string\"}\n",
        "良師 = \"\" #@param {type:\"string\"}\n",
        "成習 = \"\" #@param {type:\"string\"}\n",
        "國習 = \"\" #@param {type:\"string\"}\n",
        "小白 = \"\" #@param {type:\"string\"}"
      ],
      "metadata": {
        "cellView": "form",
        "id": "r7kaoQqD7CkU"
      },
      "execution_count": null,
      "outputs": []
    },
    {
      "cell_type": "markdown",
      "source": [
        "## 數學\n",
        "\n"
      ],
      "metadata": {
        "id": "70p2SGMn8Ti3"
      }
    },
    {
      "cell_type": "code",
      "source": [
        "數講 = \"\" #@param {type:\"string\"}\n",
        "數課 = \"\" #@param {type:\"string\"}"
      ],
      "metadata": {
        "cellView": "form",
        "id": "pn_BZMHU8sFH"
      },
      "execution_count": null,
      "outputs": []
    },
    {
      "cell_type": "markdown",
      "source": [
        "## 英文"
      ],
      "metadata": {
        "id": "81AwaNod86P2"
      }
    },
    {
      "cell_type": "code",
      "source": [
        "英講 = \"\" #@param {type:\"string\"}\n",
        "英習 = \"\" #@param {type:\"string\"}"
      ],
      "metadata": {
        "cellView": "form",
        "id": "xTaemZDH88_2"
      },
      "execution_count": null,
      "outputs": []
    },
    {
      "cell_type": "markdown",
      "source": [
        "## 自然"
      ],
      "metadata": {
        "id": "wbCfVXJ99WhL"
      }
    },
    {
      "cell_type": "code",
      "source": [
        "理講 = \"\" #@param {type:\"string\"}\n",
        "理習 = \"\" #@param {type:\"string\"}"
      ],
      "metadata": {
        "cellView": "form",
        "id": "-WvcHWRA9ZyI"
      },
      "execution_count": null,
      "outputs": []
    },
    {
      "cell_type": "markdown",
      "source": [
        "## 日記&心得&週記"
      ],
      "metadata": {
        "id": "hrwppbML-pd-"
      }
    },
    {
      "cell_type": "code",
      "source": [
        "日記 = False #@param {type:\"boolean\"}\n",
        "心得 = False #@param {type:\"boolean\"}\n",
        "週記 = False #@param {type:\"boolean\"}\n",
        "週記題目 = \"\" #@param {type:\"string\"}"
      ],
      "metadata": {
        "cellView": "form",
        "id": "bkq2e5zA-zgY"
      },
      "execution_count": null,
      "outputs": []
    },
    {
      "cell_type": "markdown",
      "source": [
        "## 考試"
      ],
      "metadata": {
        "id": "vwFkENSF9vyw"
      }
    },
    {
      "cell_type": "code",
      "source": [
        "考試 = \"\\u8003\" #@param {type:\"string\"}"
      ],
      "metadata": {
        "cellView": "form",
        "id": "qwqqWFR390rT"
      },
      "execution_count": null,
      "outputs": []
    },
    {
      "cell_type": "markdown",
      "source": [
        "## 考卷&通知單"
      ],
      "metadata": {
        "id": "_YAsasjyDdHK"
      }
    },
    {
      "cell_type": "code",
      "source": [
        "大白 = False #@param {type:\"boolean\"}\n",
        "大白範圍_單元 = \"U\" #@param {type:\"string\"}\n",
        "健教卷 = False #@param {type:\"boolean\"}\n",
        "國考古 = False #@param {type:\"boolean\"}\n",
        "英考古 = False #@param {type:\"boolean\"}\n",
        "理考古 = False #@param {type:\"boolean\"}\n",
        "公民考古 = False #@param {type:\"boolean\"}\n",
        "歷史考古 = False #@param {type:\"boolean\"}\n",
        "地理考古 = False #@param {type:\"boolean\"}\n",
        "通知單 = False #@param {type:\"boolean\"}"
      ],
      "metadata": {
        "cellView": "form",
        "id": "XnXUIwuqDjCE"
      },
      "execution_count": null,
      "outputs": []
    },
    {
      "cell_type": "markdown",
      "source": [
        "## 社會"
      ],
      "metadata": {
        "id": "ApcxvtIH-83v"
      }
    },
    {
      "cell_type": "code",
      "source": [
        "#@markdown 社會-地理\n",
        "地講 = \"\" #@param {type:\"string\"}\n",
        "地習 = \"\" #@param {type:\"string\"}\n",
        "#@markdown 社會-歷史\n",
        "歷習 = \"\" #@param {type:\"string\"}\n",
        "#@markdown 社會-公民\n",
        "公講 = \"\" #@param {type:\"string\"}\n",
        "公習 = \"\" #@param {type:\"string\"}"
      ],
      "metadata": {
        "cellView": "form",
        "id": "zJ0aHi2b_Dn_"
      },
      "execution_count": null,
      "outputs": []
    },
    {
      "cell_type": "markdown",
      "source": [
        "## 補充\n"
      ],
      "metadata": {
        "id": "BDjnQs5mIL4w"
      }
    },
    {
      "cell_type": "code",
      "source": [
        "補充 = \"\" #@param {type:\"string\"}"
      ],
      "metadata": {
        "cellView": "form",
        "id": "S4Hv_EVxIO8e"
      },
      "execution_count": null,
      "outputs": []
    },
    {
      "cell_type": "markdown",
      "source": [
        "## 整理"
      ],
      "metadata": {
        "id": "0cj9uJ6pBPZX"
      }
    },
    {
      "cell_type": "code",
      "source": [
        "f = [\"1.\",\"2.\",\"3.\",\"4.\",\"5.\",\"6.\",\"7.\",\"8.\",\"9.\",\"10.\",\"11.\",\"12.\",\"13.\",\"14.\",\"15.\",\"16.\",\"17.\",\"18.\",\"19.\",\"20.\"]\n",
        "t = 0\n",
        "# 國文\n",
        "if len(預良師_單元) > 1 :\n",
        "  print(f[t],\"預良師\",預良師_單元)\n",
        "  t = t + 1\n",
        "if len(良師) > 0 :\n",
        "  print(f[t],\"良師P.\",良師)\n",
        "  t = t + 1\n",
        "if len(成習) > 0 :\n",
        "  print(f[t],\"成習P.\",成習)\n",
        "  t = t + 1\n",
        "if len(國習) > 0 :\n",
        "  print(f[t],\"國習P.\",國習)\n",
        "  t = t + 1\n",
        "if len(小白) > 0 :\n",
        "  print(f[t],\"小白P.\",小白)\n",
        "  t = t + 1\n",
        "\n",
        "# 數學\n",
        "if len(數講) > 0 :\n",
        "  print(f[t],\"數講P.\",數講)\n",
        "  t = t + 1\n",
        "if len(數課) > 0 :\n",
        "  print(f[t],\"數課P.\",數課)\n",
        "  t = t + 1\n",
        "\n",
        "# 英文\n",
        "if len(英講) > 0 :\n",
        "  print(f[t],\"英講P.\",英講)\n",
        "  t = t + 1\n",
        "if len(英習) > 0 :\n",
        "  print(f[t],\"英習P.\",英習)\n",
        "  t = t + 1\n",
        "\n",
        "# 理化\n",
        "if len(理講) > 0 :\n",
        "  print(f[t],\"理講P.\",理講)\n",
        "  t = t + 1\n",
        "if len(理習) > 0 :\n",
        "  print(f[t],\"理習P.\",理習)\n",
        "  t = t + 1\n",
        "\n",
        "# 社會\n",
        "if len(地講) > 0 :\n",
        "  print(f[t],\"地講P.\",地講)\n",
        "  t = t + 1\n",
        "if len(歷習) > 0 :\n",
        "  print(f[t],\"歷習P.\",歷習)\n",
        "  t = t + 1\n",
        "if len(公講) > 0 :\n",
        "  print(f[t],\"公講P.\",公講)\n",
        "  t = t + 1\n",
        "if len(公習) > 0 :\n",
        "  print(f[t],\"公習P.\",公習)\n",
        "  t = t + 1\n",
        "\n",
        "# 考卷&通知單\n",
        "if 大白 == True:\n",
        "  print(f[t],\"大白\",大白範圍_單元)\n",
        "  t = t + 1\n",
        "if 健教卷 == True:\n",
        "  print(f[t],\"健教卷\")\n",
        "  t = t + 1\n",
        "if 國考古 == True:\n",
        "  print(f[t],\"國考古\")\n",
        "  t = t + 1\n",
        "if 英考古 == True:\n",
        "  print(f[t],\"英考古\")\n",
        "  t = t + 1\n",
        "if 理考古 == True:\n",
        "  print(f[t],\"理考古\")\n",
        "  t = t + 1\n",
        "if 公民考古 == True:\n",
        "  print(f[t],\"公民考古\")\n",
        "  t = t + 1\n",
        "if 歷史考古 == True:\n",
        "  print(f[t],\"歷史考古\")\n",
        "  t = t + 1\n",
        "if 地理考古 == True:\n",
        "  print(f[t],\"地理考古\")\n",
        "  t = t + 1\n",
        "if 通知單 == True:\n",
        "  print(f[t],\"通知單\")\n",
        "  t = t + 1\n",
        "\n",
        "# 考試\n",
        "if len(考試) > 1 :\n",
        "  print(f[t],考試)\n",
        "  t = t + 1\n",
        "\n",
        "# 日記&心得&週記\n",
        "if 日記 == True:\n",
        "  print(f[t],\"日記\")\n",
        "  t = t + 1\n",
        "if 心得 == True:\n",
        "  print(f[t],\"心得\")\n",
        "  t = t + 1\n",
        "if 週記 == True:\n",
        "  print(f[t],\"週記:\",週記題目)\n",
        "  t = t + 1\n",
        "\n",
        "# 補充\n",
        "if len(補充) > 0:\n",
        "  print(f[t],補充)\n",
        "  t = t + 1"
      ],
      "metadata": {
        "id": "FGvDeGN_BS8j"
      },
      "execution_count": null,
      "outputs": []
    },
    {
      "cell_type": "markdown",
      "source": [
        "## 總程式碼"
      ],
      "metadata": {
        "id": "cqLpKHuJ_lek"
      }
    },
    {
      "cell_type": "code",
      "execution_count": null,
      "metadata": {
        "id": "aFlLLSQGsBNG"
      },
      "outputs": [],
      "source": [
        "#@markdown 國文\n",
        "預良師_單元 = \"U\" #@param {type:\"string\"}\n",
        "良師 = \"\" #@param {type:\"string\"}\n",
        "成習 = \"\" #@param {type:\"string\"}\n",
        "國習 = \"\" #@param {type:\"string\"}\n",
        "小白 = \"\" #@param {type:\"string\"}\n",
        "#@markdown 數學\n",
        "數講 = \"\" #@param {type:\"string\"}\n",
        "數課 = \"\" #@param {type:\"string\"}\n",
        "#@markdown 英文\n",
        "英講 = \"\" #@param {type:\"string\"}\n",
        "英習 = \"\" #@param {type:\"string\"}\n",
        "#@markdown 自然\n",
        "理講 = \"\" #@param {type:\"string\"}\n",
        "理習 = \"\" #@param {type:\"string\"}\n",
        "#@markdown 考試\n",
        "考試 = \"\\u8003\" #@param {type:\"string\"}\n",
        "#@markdown 日記&心得&週記\n",
        "日記 = False #@param {type:\"boolean\"}\n",
        "心得 = False #@param {type:\"boolean\"}\n",
        "週記 = False #@param {type:\"boolean\"}\n",
        "週記題目 = \"\" #@param {type:\"string\"}\n",
        "#@markdown 考卷&通知單\n",
        "大白 = False #@param {type:\"boolean\"}\n",
        "大白範圍_單元 = \"U\" #@param {type:\"string\"}\n",
        "健教卷 = False #@param {type:\"boolean\"}\n",
        "國考古 = False #@param {type:\"boolean\"}\n",
        "英考古 = False #@param {type:\"boolean\"}\n",
        "理考古 = False #@param {type:\"boolean\"}\n",
        "公民考古 = False #@param {type:\"boolean\"}\n",
        "歷史考古 = False #@param {type:\"boolean\"}\n",
        "地理考古 = False #@param {type:\"boolean\"}\n",
        "通知單 = False #@param {type:\"boolean\"}\n",
        "#@markdown 社會-地理\n",
        "地講 = \"\" #@param {type:\"string\"}\n",
        "地習 = \"\" #@param {type:\"string\"}\n",
        "#@markdown 社會-歷史\n",
        "歷習 = \"\" #@param {type:\"string\"}\n",
        "#@markdown 社會-公民\n",
        "公講 = \"\" #@param {type:\"string\"}\n",
        "公習 = \"\" #@param {type:\"string\"}\n",
        "#@markdown 補充\n",
        "補充 = \"\" #@param {type:\"string\"}\n",
        "\n",
        "\n",
        "\n",
        "f = [\"1.\",\"2.\",\"3.\",\"4.\",\"5.\",\"6.\",\"7.\",\"8.\",\"9.\",\"10.\",\"11.\",\"12.\",\"13.\",\"14.\",\"15.\",\"16.\",\"17.\",\"18.\",\"19.\",\"20.\"]\n",
        "t = 0\n",
        "# 國文\n",
        "if len(預良師_單元) > 1 :\n",
        "  print(f[t],\"預良師\",預良師_單元)\n",
        "  t = t + 1\n",
        "if len(良師) > 0 :\n",
        "  print(f[t],\"良師P.\",良師)\n",
        "  t = t + 1\n",
        "if len(成習) > 0 :\n",
        "  print(f[t],\"成習P.\",成習)\n",
        "  t = t + 1\n",
        "if len(國習) > 0 :\n",
        "  print(f[t],\"國習P.\",國習)\n",
        "  t = t + 1\n",
        "if len(小白) > 0 :\n",
        "  print(f[t],\"小白P.\",小白)\n",
        "  t = t + 1\n",
        "\n",
        "# 數學\n",
        "if len(數講) > 0 :\n",
        "  print(f[t],\"數講P.\",數講)\n",
        "  t = t + 1\n",
        "if len(數課) > 0 :\n",
        "  print(f[t],\"數課P.\",數課)\n",
        "  t = t + 1\n",
        "\n",
        "# 英文\n",
        "if len(英講) > 0 :\n",
        "  print(f[t],\"英講P.\",英講)\n",
        "  t = t + 1\n",
        "if len(英習) > 0 :\n",
        "  print(f[t],\"英習P.\",英習)\n",
        "  t = t + 1\n",
        "\n",
        "# 理化\n",
        "if len(理講) > 0 :\n",
        "  print(f[t],\"理講P.\",理講)\n",
        "  t = t + 1\n",
        "if len(理習) > 0 :\n",
        "  print(f[t],\"理習P.\",理習)\n",
        "  t = t + 1\n",
        "\n",
        "# 社會\n",
        "if len(地講) > 0 :\n",
        "  print(f[t],\"地講P.\",地講)\n",
        "  t = t + 1\n",
        "if len(歷習) > 0 :\n",
        "  print(f[t],\"歷習P.\",歷習)\n",
        "  t = t + 1\n",
        "if len(公講) > 0 :\n",
        "  print(f[t],\"公講P.\",公講)\n",
        "  t = t + 1\n",
        "if len(公習) > 0 :\n",
        "  print(f[t],\"公習P.\",公習)\n",
        "  t = t + 1\n",
        "\n",
        "# 考卷&通知單\n",
        "if 大白 == True:\n",
        "  print(f[t],\"大白\",大白範圍_單元)\n",
        "  t = t + 1\n",
        "if 健教卷 == True:\n",
        "  print(f[t],\"健教卷\")\n",
        "  t = t + 1\n",
        "if 國考古 == True:\n",
        "  print(f[t],\"國考古\")\n",
        "  t = t + 1\n",
        "if 英考古 == True:\n",
        "  print(f[t],\"英考古\")\n",
        "  t = t + 1\n",
        "if 理考古 == True:\n",
        "  print(f[t],\"理考古\")\n",
        "  t = t + 1\n",
        "if 公民考古 == True:\n",
        "  print(f[t],\"公民考古\")\n",
        "  t = t + 1\n",
        "if 歷史考古 == True:\n",
        "  print(f[t],\"歷史考古\")\n",
        "  t = t + 1\n",
        "if 地理考古 == True:\n",
        "  print(f[t],\"地理考古\")\n",
        "  t = t + 1\n",
        "if 通知單 == True:\n",
        "  print(f[t],\"通知單\")\n",
        "  t = t + 1\n",
        "\n",
        "# 考試\n",
        "if len(考試) > 1 :\n",
        "  print(f[t],考試)\n",
        "  t = t + 1\n",
        "\n",
        "# 日記&心得&週記\n",
        "if 日記 == True:\n",
        "  print(f[t],\"日記\")\n",
        "  t = t + 1\n",
        "if 心得 == True:\n",
        "  print(f[t],\"心得\")\n",
        "  t = t + 1\n",
        "if 週記 == True:\n",
        "  print(f[t],\"週記:\",週記題目)\n",
        "  t = t + 1\n",
        "\n",
        "# 補充\n",
        "if len(補充) > 0:\n",
        "  print(f[t],補充)\n",
        "  t = t + 1"
      ]
    }
  ]
}